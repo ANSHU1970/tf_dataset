{
 "cells": [
  {
   "cell_type": "code",
   "execution_count": 58,
   "metadata": {},
   "outputs": [],
   "source": [
    "import tensorflow as tf"
   ]
  },
  {
   "cell_type": "code",
   "execution_count": 59,
   "metadata": {},
   "outputs": [],
   "source": [
    "daily_sales_numbers=[21,22,-108,-1,32,34,31,73]"
   ]
  },
  {
   "cell_type": "code",
   "execution_count": 60,
   "metadata": {},
   "outputs": [
    {
     "data": {
      "text/plain": [
       "<_TensorSliceDataset element_spec=TensorSpec(shape=(), dtype=tf.int32, name=None)>"
      ]
     },
     "execution_count": 60,
     "metadata": {},
     "output_type": "execute_result"
    }
   ],
   "source": [
    "tf_dataset=tf.data.Dataset.from_tensor_slices(daily_sales_numbers)\n",
    "tf_dataset"
   ]
  },
  {
   "cell_type": "code",
   "execution_count": 61,
   "metadata": {},
   "outputs": [
    {
     "name": "stdout",
     "output_type": "stream",
     "text": [
      "21\n",
      "22\n",
      "-108\n",
      "-1\n",
      "32\n",
      "34\n",
      "31\n",
      "73\n"
     ]
    }
   ],
   "source": [
    "for sales in tf_dataset:\n",
    "    print(sales.numpy())"
   ]
  },
  {
   "cell_type": "code",
   "execution_count": 62,
   "metadata": {},
   "outputs": [
    {
     "name": "stdout",
     "output_type": "stream",
     "text": [
      "21\n",
      "22\n",
      "-108\n"
     ]
    }
   ],
   "source": [
    "for sales in tf_dataset.take(3):\n",
    "    print(sales.numpy())"
   ]
  },
  {
   "cell_type": "code",
   "execution_count": 63,
   "metadata": {},
   "outputs": [
    {
     "name": "stdout",
     "output_type": "stream",
     "text": [
      "21\n",
      "22\n",
      "32\n",
      "34\n",
      "31\n",
      "73\n"
     ]
    }
   ],
   "source": [
    "tf_dataset=tf_dataset.filter(lambda x:x>0)\n",
    "for sales in tf_dataset:\n",
    "    print(sales.numpy())"
   ]
  },
  {
   "cell_type": "code",
   "execution_count": 64,
   "metadata": {},
   "outputs": [
    {
     "name": "stdout",
     "output_type": "stream",
     "text": [
      "1764\n",
      "1848\n",
      "2688\n",
      "2856\n",
      "2604\n",
      "6132\n"
     ]
    }
   ],
   "source": [
    "tf_dataset=tf_dataset.map(lambda x:x*84)\n",
    "for sales in tf_dataset:\n",
    "    print(sales.numpy())"
   ]
  },
  {
   "cell_type": "code",
   "execution_count": 65,
   "metadata": {},
   "outputs": [
    {
     "name": "stdout",
     "output_type": "stream",
     "text": [
      "1848\n",
      "2856\n",
      "2688\n",
      "6132\n",
      "1764\n",
      "2604\n"
     ]
    }
   ],
   "source": [
    "tf_dataset=tf_dataset.shuffle(3)\n",
    "for sales in tf_dataset:\n",
    "    print(sales.numpy())"
   ]
  },
  {
   "cell_type": "code",
   "execution_count": 66,
   "metadata": {},
   "outputs": [
    {
     "name": "stdout",
     "output_type": "stream",
     "text": [
      "[1764 2688 2604 6132]\n",
      "[1848 2856]\n"
     ]
    }
   ],
   "source": [
    "for sales_batch in tf_dataset.batch(4):\n",
    "    print(sales_batch.numpy())"
   ]
  },
  {
   "cell_type": "code",
   "execution_count": 67,
   "metadata": {},
   "outputs": [
    {
     "name": "stdout",
     "output_type": "stream",
     "text": [
      "[1764 2688]\n",
      "[1848 2604]\n",
      "[6132 2856]\n"
     ]
    }
   ],
   "source": [
    "tf_dataset=tf.data.Dataset.from_tensor_slices(daily_sales_numbers)\n",
    "tf_dataset=tf_dataset.filter(lambda x:x>0).map(lambda y:y*84).shuffle(2).batch(2)\n",
    "for sales in tf_dataset:\n",
    "    print(sales.numpy())\n"
   ]
  },
  {
   "cell_type": "code",
   "execution_count": 68,
   "metadata": {},
   "outputs": [
    {
     "name": "stdout",
     "output_type": "stream",
     "text": [
      "b'images\\\\cats\\\\11a15460b08386169286d76559da0b13.jpg'\n",
      "b'images\\\\cats\\\\1200px-Cat03.jpg'\n",
      "b'images\\\\cats\\\\1200px-Cat_November_2010-1a.jpg'\n",
      "b'images\\\\cats\\\\1310870.jpg'\n"
     ]
    }
   ],
   "source": [
    "images_ds=tf.data.Dataset.list_files('images/*/*',shuffle=False)\n",
    "for img in images_ds.take(4):\n",
    "    print(img.numpy())"
   ]
  },
  {
   "cell_type": "code",
   "execution_count": 69,
   "metadata": {},
   "outputs": [
    {
     "name": "stdout",
     "output_type": "stream",
     "text": [
      "b\"images\\\\cats\\\\sweet-view-animal-fur-green-kitten-cat-mammal-fauna-eyes-whiskers-grey-vertebrate-out-domestic-cat-bobcat-cat's-eyes-tabby-cat-green-eyes-european-shorthair-grey-fur-wild-cat-small-to-medium-.jpg\"\n",
      "b'images\\\\dogs\\\\small-dog-owners-1.jpg'\n",
      "b'images\\\\cats\\\\GettyImages-1341465008.jpg'\n",
      "b'images\\\\cats\\\\Savannah_Cat_portrait.jpg'\n"
     ]
    }
   ],
   "source": [
    "images_ds=images_ds.shuffle(200)\n",
    "for img in images_ds.take(4):\n",
    "    print(img.numpy())"
   ]
  },
  {
   "cell_type": "code",
   "execution_count": 70,
   "metadata": {},
   "outputs": [],
   "source": [
    "class_names=[\"cat\",\"dog\"]\n"
   ]
  },
  {
   "cell_type": "code",
   "execution_count": 71,
   "metadata": {},
   "outputs": [
    {
     "data": {
      "text/plain": [
       "60"
      ]
     },
     "execution_count": 71,
     "metadata": {},
     "output_type": "execute_result"
    }
   ],
   "source": [
    "image_count=len(images_ds)\n",
    "image_count"
   ]
  },
  {
   "cell_type": "code",
   "execution_count": 72,
   "metadata": {},
   "outputs": [],
   "source": [
    "train_size=int(image_count*0.8)\n",
    "train_ds=images_ds.take(train_size)\n",
    "test_ds=images_ds.skip(train_size)"
   ]
  },
  {
   "cell_type": "code",
   "execution_count": 73,
   "metadata": {},
   "outputs": [
    {
     "data": {
      "text/plain": [
       "48"
      ]
     },
     "execution_count": 73,
     "metadata": {},
     "output_type": "execute_result"
    }
   ],
   "source": [
    "len(train_ds)\n"
   ]
  },
  {
   "cell_type": "code",
   "execution_count": 74,
   "metadata": {},
   "outputs": [
    {
     "data": {
      "text/plain": [
       "12"
      ]
     },
     "execution_count": 74,
     "metadata": {},
     "output_type": "execute_result"
    }
   ],
   "source": [
    "len(test_ds)"
   ]
  },
  {
   "cell_type": "code",
   "execution_count": 75,
   "metadata": {},
   "outputs": [
    {
     "data": {
      "text/plain": [
       "['images', 'dogs', 'cutest-dog-breeds-jpg.jpg']"
      ]
     },
     "execution_count": 75,
     "metadata": {},
     "output_type": "execute_result"
    }
   ],
   "source": [
    "s='images\\\\dogs\\\\cutest-dog-breeds-jpg.jpg'\n",
    "s=s.split(\"\\\\\")\n",
    "s"
   ]
  },
  {
   "cell_type": "code",
   "execution_count": 76,
   "metadata": {},
   "outputs": [
    {
     "data": {
      "text/plain": [
       "'dogs'"
      ]
     },
     "execution_count": 76,
     "metadata": {},
     "output_type": "execute_result"
    }
   ],
   "source": [
    "s[-2]"
   ]
  },
  {
   "cell_type": "code",
   "execution_count": 77,
   "metadata": {},
   "outputs": [],
   "source": [
    "def get_label(file_path):\n",
    "    import os\n",
    "    return tf.strings.split(file_path,os.path.sep)[-2]\n"
   ]
  },
  {
   "cell_type": "code",
   "execution_count": 78,
   "metadata": {},
   "outputs": [
    {
     "name": "stdout",
     "output_type": "stream",
     "text": [
      "b'cats'\n",
      "b'cats'\n",
      "b'cats'\n",
      "b'cats'\n",
      "b'cats'\n",
      "b'cats'\n",
      "b'dogs'\n",
      "b'dogs'\n",
      "b'cats'\n",
      "b'cats'\n",
      "b'dogs'\n",
      "b'dogs'\n",
      "b'cats'\n",
      "b'cats'\n",
      "b'dogs'\n",
      "b'dogs'\n",
      "b'dogs'\n",
      "b'cats'\n",
      "b'cats'\n",
      "b'dogs'\n",
      "b'cats'\n",
      "b'cats'\n",
      "b'dogs'\n",
      "b'dogs'\n",
      "b'cats'\n",
      "b'dogs'\n",
      "b'dogs'\n",
      "b'cats'\n",
      "b'cats'\n",
      "b'dogs'\n",
      "b'dogs'\n",
      "b'dogs'\n",
      "b'dogs'\n",
      "b'cats'\n",
      "b'dogs'\n",
      "b'dogs'\n",
      "b'dogs'\n",
      "b'cats'\n",
      "b'dogs'\n",
      "b'cats'\n",
      "b'cats'\n",
      "b'dogs'\n",
      "b'dogs'\n",
      "b'dogs'\n",
      "b'cats'\n",
      "b'dogs'\n",
      "b'cats'\n",
      "b'cats'\n"
     ]
    }
   ],
   "source": [
    "for lable in train_ds.map(get_label):\n",
    "    print(lable.numpy())"
   ]
  },
  {
   "cell_type": "code",
   "execution_count": 85,
   "metadata": {},
   "outputs": [],
   "source": [
    "def process_img(file_path):\n",
    "    label=get_label(file_path)\n",
    "    img=tf.io.read_file(file_path)\n",
    "    img=tf.image.decode_jpeg(img)\n",
    "    img=tf.image.resize(img,[128,128])\n",
    "    return img,label\n"
   ]
  },
  {
   "cell_type": "code",
   "execution_count": 89,
   "metadata": {},
   "outputs": [
    {
     "name": "stdout",
     "output_type": "stream",
     "text": [
      "tf.Tensor(b'cats', shape=(), dtype=string)\n",
      "tf.Tensor(\n",
      "[[[3.06250000e+00 0.00000000e+00 0.00000000e+00]\n",
      "  [3.12500000e+00 0.00000000e+00 0.00000000e+00]\n",
      "  [3.14062500e+00 3.90625000e-02 0.00000000e+00]\n",
      "  ...\n",
      "  [1.74289062e+02 1.82289062e+02 2.01289062e+02]\n",
      "  [1.77773438e+02 1.85773438e+02 2.04773438e+02]\n",
      "  [1.77867188e+02 1.88867188e+02 2.06867188e+02]]\n",
      "\n",
      " [[1.00000000e+00 0.00000000e+00 0.00000000e+00]\n",
      "  [1.00000000e+00 0.00000000e+00 0.00000000e+00]\n",
      "  [1.00000000e+00 0.00000000e+00 0.00000000e+00]\n",
      "  ...\n",
      "  [1.82625000e+02 1.93625000e+02 2.11625000e+02]\n",
      "  [1.80000000e+02 1.91000000e+02 2.09000000e+02]\n",
      "  [1.83000000e+02 1.94000000e+02 2.12000000e+02]]\n",
      "\n",
      " [[1.00000000e+00 0.00000000e+00 0.00000000e+00]\n",
      "  [1.00000000e+00 0.00000000e+00 0.00000000e+00]\n",
      "  [1.00000000e+00 0.00000000e+00 0.00000000e+00]\n",
      "  ...\n",
      "  [1.80257812e+02 1.91257812e+02 2.09257812e+02]\n",
      "  [1.83375000e+02 1.95625000e+02 2.13000000e+02]\n",
      "  [1.85750000e+02 1.94125000e+02 2.13000000e+02]]\n",
      "\n",
      " ...\n",
      "\n",
      " [[2.23710938e+02 2.26710938e+02 2.41710938e+02]\n",
      "  [2.25570312e+02 2.28570312e+02 2.43570312e+02]\n",
      "  [2.32000000e+02 2.35000000e+02 2.50000000e+02]\n",
      "  ...\n",
      "  [1.45921875e+02 1.50296875e+02 1.56375000e+02]\n",
      "  [1.32125000e+02 1.36382812e+02 1.37898438e+02]\n",
      "  [1.13109375e+02 1.13109375e+02 1.13109375e+02]]\n",
      "\n",
      " [[2.34000000e+02 2.36000000e+02 2.51000000e+02]\n",
      "  [2.35000000e+02 2.38000000e+02 2.53000000e+02]\n",
      "  [2.36187500e+02 2.39187500e+02 2.54187500e+02]\n",
      "  ...\n",
      "  [1.29179688e+02 1.28679688e+02 1.23054688e+02]\n",
      "  [1.20687500e+02 1.23687500e+02 1.15937500e+02]\n",
      "  [1.39648438e+02 1.39648438e+02 1.41648438e+02]]\n",
      "\n",
      " [[2.34109375e+02 2.36109375e+02 2.48109375e+02]\n",
      "  [2.34585938e+02 2.36585938e+02 2.51585938e+02]\n",
      "  [2.30734375e+02 2.32734375e+02 2.47734375e+02]\n",
      "  ...\n",
      "  [1.26914062e+02 1.26250000e+02 1.25117188e+02]\n",
      "  [1.37031250e+02 1.40968750e+02 1.44093750e+02]\n",
      "  [1.60375000e+02 1.62492188e+02 1.74140625e+02]]], shape=(128, 128, 3), dtype=float32)\n",
      "tf.Tensor(b'cats', shape=(), dtype=string)\n",
      "tf.Tensor(\n",
      "[[[212.5  195.5   91.5 ]\n",
      "  [211.75 194.75  90.75]\n",
      "  [212.   195.    91.  ]\n",
      "  ...\n",
      "  [207.   188.    86.  ]\n",
      "  [206.5  187.5   84.5 ]\n",
      "  [208.   189.    86.  ]]\n",
      "\n",
      " [[212.   194.    92.  ]\n",
      "  [212.   194.    92.  ]\n",
      "  [212.5  194.5   92.5 ]\n",
      "  ...\n",
      "  [207.25 188.25  86.25]\n",
      "  [207.25 188.25  85.25]\n",
      "  [207.25 188.25  85.25]]\n",
      "\n",
      " [[212.   194.    94.  ]\n",
      "  [211.   193.    93.  ]\n",
      "  [212.25 194.25  94.25]\n",
      "  ...\n",
      "  [205.5  186.5   84.5 ]\n",
      "  [207.25 188.25  85.25]\n",
      "  [207.25 188.25  85.25]]\n",
      "\n",
      " ...\n",
      "\n",
      " [[211.   195.5  116.  ]\n",
      "  [211.5  196.   116.5 ]\n",
      "  [213.5  198.   118.5 ]\n",
      "  ...\n",
      "  [166.   201.   172.25]\n",
      "  [177.25 208.75 187.5 ]\n",
      "  [222.25 210.5  132.  ]]\n",
      "\n",
      " [[211.5  195.5  117.5 ]\n",
      "  [212.5  196.5  118.5 ]\n",
      "  [213.5  197.5  119.5 ]\n",
      "  ...\n",
      "  [192.75 179.5  121.  ]\n",
      "  [183.25 177.5  124.75]\n",
      "  [231.25 214.25 144.5 ]]\n",
      "\n",
      " [[219.5  203.5  125.5 ]\n",
      "  [219.75 203.75 125.75]\n",
      "  [219.5  203.5  125.5 ]\n",
      "  ...\n",
      "  [227.5  201.   144.25]\n",
      "  [225.75 214.   139.  ]\n",
      "  [232.75 212.5  141.5 ]]], shape=(128, 128, 3), dtype=float32)\n",
      "tf.Tensor(b'dogs', shape=(), dtype=string)\n",
      "tf.Tensor(\n",
      "[[[ 27.1875     13.1875      2.1875   ]\n",
      "  [ 27.042969   13.042969    2.0429688]\n",
      "  [ 30.         16.          5.       ]\n",
      "  ...\n",
      "  [ 62.125      25.125       7.125    ]\n",
      "  [ 58.         21.          3.       ]\n",
      "  [ 58.         21.          3.       ]]\n",
      "\n",
      " [[ 28.5625     14.5625      3.5625   ]\n",
      "  [ 29.753906   15.753906    4.7539062]\n",
      "  [ 28.152344   14.152344    3.1523438]\n",
      "  ...\n",
      "  [ 54.125      21.125       2.125    ]\n",
      "  [ 60.26172    23.261719    5.2617188]\n",
      "  [ 58.1875     21.1875      3.1875   ]]\n",
      "\n",
      " [[ 29.125      15.125       4.125    ]\n",
      "  [ 29.527344   15.527344    4.5273438]\n",
      "  [ 30.941406   16.941406    5.9414062]\n",
      "  ...\n",
      "  [ 57.875      22.875       3.875    ]\n",
      "  [ 56.625      19.625       1.625    ]\n",
      "  [ 58.875      21.875       3.875    ]]\n",
      "\n",
      " ...\n",
      "\n",
      " [[251.80078   229.8125    192.8125   ]\n",
      "  [250.13281   227.69531   192.00781  ]\n",
      "  [247.375     224.375     190.375    ]\n",
      "  ...\n",
      "  [235.8789    215.8789    182.8789   ]\n",
      "  [237.75      214.75      182.75     ]\n",
      "  [231.5       208.5       176.5      ]]\n",
      "\n",
      " [[248.85547   228.5       196.       ]\n",
      "  [239.1914    218.94531   185.94531  ]\n",
      "  [236.40234   216.21484   183.27734  ]\n",
      "  ...\n",
      "  [241.9375    218.9375    184.9375   ]\n",
      "  [239.6289    219.6289    186.6289   ]\n",
      "  [235.75      215.75      180.75     ]]\n",
      "\n",
      " [[251.90234   230.9375    203.25781  ]\n",
      "  [250.46094   229.46094   201.375    ]\n",
      "  [250.32422   230.13672   197.19922  ]\n",
      "  ...\n",
      "  [243.625     220.625     186.625    ]\n",
      "  [246.08203   226.08203   193.08203  ]\n",
      "  [244.32031   224.32031   189.32031  ]]], shape=(128, 128, 3), dtype=float32)\n"
     ]
    }
   ],
   "source": [
    "for img, lable in train_ds.map(process_img).take(3):\n",
    "    print(lable)\n",
    "    print(img)"
   ]
  },
  {
   "cell_type": "code",
   "execution_count": 91,
   "metadata": {},
   "outputs": [],
   "source": [
    "train_ds=train_ds.map(process_img)"
   ]
  },
  {
   "cell_type": "code",
   "execution_count": 90,
   "metadata": {},
   "outputs": [],
   "source": [
    "def scale(img,lable):\n",
    "    return img/255,lable"
   ]
  },
  {
   "cell_type": "code",
   "execution_count": 92,
   "metadata": {},
   "outputs": [],
   "source": [
    "train_ds=train_ds.map(scale)"
   ]
  },
  {
   "cell_type": "code",
   "execution_count": 96,
   "metadata": {},
   "outputs": [
    {
     "name": "stdout",
     "output_type": "stream",
     "text": [
      "img [0.18333334 0.19019608 0.11078431]\n",
      "lable b'cats'\n",
      "img [0.36078432 0.46666667 0.53333336]\n",
      "lable b'cats'\n",
      "img [0.79059434 0.7176471  0.5835478 ]\n",
      "lable b'cats'\n"
     ]
    }
   ],
   "source": [
    "for img,lable in train_ds.take(3):\n",
    "    \n",
    "    print('img',img.numpy()[0][0])\n",
    "    print(\"lable\",lable.numpy())"
   ]
  }
 ],
 "metadata": {
  "kernelspec": {
   "display_name": "tenv",
   "language": "python",
   "name": "python3"
  },
  "language_info": {
   "codemirror_mode": {
    "name": "ipython",
    "version": 3
   },
   "file_extension": ".py",
   "mimetype": "text/x-python",
   "name": "python",
   "nbconvert_exporter": "python",
   "pygments_lexer": "ipython3",
   "version": "3.11.7"
  }
 },
 "nbformat": 4,
 "nbformat_minor": 2
}
